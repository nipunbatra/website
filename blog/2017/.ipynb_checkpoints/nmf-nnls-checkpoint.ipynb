{
 "cells": [
  {
   "cell_type": "markdown",
   "metadata": {},
   "source": [
    "# Non-negative matrix factorisation using non-negative least squares"
   ]
  },
  {
   "cell_type": "markdown",
   "metadata": {},
   "source": [
    "In this post, I will write about using non-negative least squares (NNLS) for the problem of non-negative matrix factorisation (NNMF). We often encounter such matrices in the problem of collaborative filtering."
   ]
  },
  {
   "cell_type": "markdown",
   "metadata": {},
   "source": [
    "### Problem"
   ]
  },
  {
   "cell_type": "markdown",
   "metadata": {},
   "source": [
    "Our goal is given a matrix A, decompose it into two non-negative factors, as follows:\n",
    "\n",
    "$ A_{M \\times N} \\approx W_{M \\times K} \\times H_{K \\times N} $, such that $ W_{M \\times K} \\ge 0$ and $ H_{K \\times N} \\ge 0$ "
   ]
  },
  {
   "cell_type": "markdown",
   "metadata": {},
   "source": [
    "![NMF Problem](files/nmf_problem.png)"
   ]
  },
  {
   "cell_type": "markdown",
   "metadata": {},
   "source": [
    "### Overview"
   ]
  },
  {
   "cell_type": "markdown",
   "metadata": {},
   "source": [
    "Our solution consists of two steps. First, we fix W and learn H, given A. Next, we fix H and learn W, given A. We repeat this procedure iteratively. Fixing one variable and learning the other (in this setting) is popularly known as alternating least squares, as the problem is reduced to a least squares problem. However, an important thing to note is that since we want to constraint W and H to be non-negative, we us NNLS instead of least squares."
   ]
  },
  {
   "cell_type": "markdown",
   "metadata": {},
   "source": [
    "### Step 1: Learning H, given A and W"
   ]
  },
  {
   "cell_type": "markdown",
   "metadata": {},
   "source": [
    "![Learn H](files/nnls_1.png)"
   ]
  },
  {
   "cell_type": "markdown",
   "metadata": {},
   "source": [
    "Using the illustration above, we can learn each column of H, using the corresponding column from A and the matrix W."
   ]
  },
  {
   "cell_type": "markdown",
   "metadata": {},
   "source": [
    "$$\n",
    "\\begin{equation}H[:, j] = NNLS (W, A[:,j]) \\end{equation}\n",
    "$$"
   ]
  },
  {
   "cell_type": "markdown",
   "metadata": {},
   "source": [
    "### Handling missing entries in A"
   ]
  },
  {
   "cell_type": "markdown",
   "metadata": {},
   "source": [
    "In the problem of collaborative filtering, A is usually the user-item matrix and it has a lot of missing entries. These missing entries correspond to user who have not rated items. We can modify our formulation to account for these missing entries. \n",
    "\n",
    "Consider that $M' \\le M$ entries in A have observed data, we would now modify the above equation as:\n"
   ]
  },
  {
   "cell_type": "markdown",
   "metadata": {},
   "source": [
    "$$\n",
    "\\begin{equation}H[:, j] = NNLS (W [mask], A[:,j][mask]) \\end{equation}\n",
    "$$"
   ]
  },
  {
   "cell_type": "markdown",
   "metadata": {},
   "source": [
    "where, the mask is found by considering only the $M'$ entries."
   ]
  },
  {
   "cell_type": "markdown",
   "metadata": {},
   "source": [
    "### Step 2: Learning W, given A and H"
   ]
  },
  {
   "cell_type": "markdown",
   "metadata": {},
   "source": [
    "![Learn W](files/nnls_2.png)"
   ]
  },
  {
   "cell_type": "markdown",
   "metadata": {},
   "source": [
    "We follow similar procedure. What must be noted is that to get our matrices in the form that NNLLS accepts, I started with A^T instead of A."
   ]
  },
  {
   "cell_type": "markdown",
   "metadata": {},
   "source": [
    "### Code example"
   ]
  },
  {
   "cell_type": "markdown",
   "metadata": {},
   "source": [
    "I'll now present a simple code example to illustrate the procedure."
   ]
  },
  {
   "cell_type": "markdown",
   "metadata": {},
   "source": [
    "#### Defining matrix A"
   ]
  },
  {
   "cell_type": "markdown",
   "metadata": {},
   "source": [
    "I will be using the example from [Quuxlab's tutorial](http://www.quuxlabs.com/blog/2010/09/matrix-factorization-a-simple-tutorial-and-implementation-in-python/) to compare how we perform in comparison to them."
   ]
  },
  {
   "cell_type": "code",
   "execution_count": 145,
   "metadata": {
    "collapsed": false
   },
   "outputs": [
    {
     "data": {
      "text/html": [
       "<div>\n",
       "<table border=\"1\" class=\"dataframe\">\n",
       "  <thead>\n",
       "    <tr style=\"text-align: right;\">\n",
       "      <th></th>\n",
       "      <th>0</th>\n",
       "      <th>1</th>\n",
       "      <th>2</th>\n",
       "      <th>3</th>\n",
       "      <th>4</th>\n",
       "      <th>5</th>\n",
       "      <th>6</th>\n",
       "      <th>7</th>\n",
       "      <th>8</th>\n",
       "      <th>9</th>\n",
       "    </tr>\n",
       "  </thead>\n",
       "  <tbody>\n",
       "    <tr>\n",
       "      <th>0</th>\n",
       "      <td>0.690975</td>\n",
       "      <td>0.156741</td>\n",
       "      <td>0.383369</td>\n",
       "      <td>0.877753</td>\n",
       "      <td>0.731518</td>\n",
       "      <td>0.382797</td>\n",
       "      <td>0.372147</td>\n",
       "      <td>0.059286</td>\n",
       "      <td>0.040431</td>\n",
       "      <td>0.160830</td>\n",
       "    </tr>\n",
       "    <tr>\n",
       "      <th>1</th>\n",
       "      <td>0.056422</td>\n",
       "      <td>0.569635</td>\n",
       "      <td>0.298097</td>\n",
       "      <td>0.047660</td>\n",
       "      <td>0.173860</td>\n",
       "      <td>0.130699</td>\n",
       "      <td>0.585227</td>\n",
       "      <td>0.080360</td>\n",
       "      <td>0.122628</td>\n",
       "      <td>0.334547</td>\n",
       "    </tr>\n",
       "    <tr>\n",
       "      <th>2</th>\n",
       "      <td>1.000000</td>\n",
       "      <td>0.256021</td>\n",
       "      <td>0.338598</td>\n",
       "      <td>0.290704</td>\n",
       "      <td>0.889057</td>\n",
       "      <td>0.569672</td>\n",
       "      <td>0.017924</td>\n",
       "      <td>0.073319</td>\n",
       "      <td>0.600386</td>\n",
       "      <td>0.575544</td>\n",
       "    </tr>\n",
       "    <tr>\n",
       "      <th>3</th>\n",
       "      <td>0.060693</td>\n",
       "      <td>0.148125</td>\n",
       "      <td>0.347744</td>\n",
       "      <td>0.775873</td>\n",
       "      <td>0.136276</td>\n",
       "      <td>0.061242</td>\n",
       "      <td>0.481902</td>\n",
       "      <td>0.470969</td>\n",
       "      <td>0.151715</td>\n",
       "      <td>0.118411</td>\n",
       "    </tr>\n",
       "    <tr>\n",
       "      <th>4</th>\n",
       "      <td>0.410716</td>\n",
       "      <td>0.556218</td>\n",
       "      <td>0.668342</td>\n",
       "      <td>0.764114</td>\n",
       "      <td>0.199630</td>\n",
       "      <td>0.171593</td>\n",
       "      <td>0.490717</td>\n",
       "      <td>0.304541</td>\n",
       "      <td>0.632160</td>\n",
       "      <td>0.083330</td>\n",
       "    </tr>\n",
       "  </tbody>\n",
       "</table>\n",
       "</div>"
      ],
      "text/plain": [
       "          0         1         2         3         4         5         6  \\\n",
       "0  0.690975  0.156741  0.383369  0.877753  0.731518  0.382797  0.372147   \n",
       "1  0.056422  0.569635  0.298097  0.047660  0.173860  0.130699  0.585227   \n",
       "2  1.000000  0.256021  0.338598  0.290704  0.889057  0.569672  0.017924   \n",
       "3  0.060693  0.148125  0.347744  0.775873  0.136276  0.061242  0.481902   \n",
       "4  0.410716  0.556218  0.668342  0.764114  0.199630  0.171593  0.490717   \n",
       "\n",
       "          7         8         9  \n",
       "0  0.059286  0.040431  0.160830  \n",
       "1  0.080360  0.122628  0.334547  \n",
       "2  0.073319  0.600386  0.575544  \n",
       "3  0.470969  0.151715  0.118411  \n",
       "4  0.304541  0.632160  0.083330  "
      ]
     },
     "execution_count": 145,
     "metadata": {},
     "output_type": "execute_result"
    }
   ],
   "source": [
    "import numpy as np\n",
    "import pandas as pd\n",
    "\n",
    "M, N = 20, 10\n",
    "\n",
    "np.random.seed(0)\n",
    "A_orig = np.abs(np.random.randn(M, N))\n",
    "A_orig = np.divide(A_orig, A_orig.max())\n",
    "pd.DataFrame(A_orig).head()"
   ]
  },
  {
   "cell_type": "markdown",
   "metadata": {},
   "source": [
    "#### Masking a few entries"
   ]
  },
  {
   "cell_type": "code",
   "execution_count": 146,
   "metadata": {
    "collapsed": false
   },
   "outputs": [],
   "source": [
    "A = A_orig.copy()\n",
    "A[0, 0] = np.NAN\n",
    "A[3, 1] = np.NAN\n",
    "A[4, 3] = np.NAN"
   ]
  },
  {
   "cell_type": "code",
   "execution_count": 147,
   "metadata": {
    "collapsed": false
   },
   "outputs": [
    {
     "data": {
      "text/html": [
       "<div>\n",
       "<table border=\"1\" class=\"dataframe\">\n",
       "  <thead>\n",
       "    <tr style=\"text-align: right;\">\n",
       "      <th></th>\n",
       "      <th>0</th>\n",
       "      <th>1</th>\n",
       "      <th>2</th>\n",
       "      <th>3</th>\n",
       "      <th>4</th>\n",
       "      <th>5</th>\n",
       "      <th>6</th>\n",
       "      <th>7</th>\n",
       "      <th>8</th>\n",
       "      <th>9</th>\n",
       "    </tr>\n",
       "  </thead>\n",
       "  <tbody>\n",
       "    <tr>\n",
       "      <th>0</th>\n",
       "      <td>NaN</td>\n",
       "      <td>0.156741</td>\n",
       "      <td>0.383369</td>\n",
       "      <td>0.877753</td>\n",
       "      <td>0.731518</td>\n",
       "      <td>0.382797</td>\n",
       "      <td>0.372147</td>\n",
       "      <td>0.059286</td>\n",
       "      <td>0.040431</td>\n",
       "      <td>0.160830</td>\n",
       "    </tr>\n",
       "    <tr>\n",
       "      <th>1</th>\n",
       "      <td>0.056422</td>\n",
       "      <td>0.569635</td>\n",
       "      <td>0.298097</td>\n",
       "      <td>0.047660</td>\n",
       "      <td>0.173860</td>\n",
       "      <td>0.130699</td>\n",
       "      <td>0.585227</td>\n",
       "      <td>0.080360</td>\n",
       "      <td>0.122628</td>\n",
       "      <td>0.334547</td>\n",
       "    </tr>\n",
       "    <tr>\n",
       "      <th>2</th>\n",
       "      <td>1.000000</td>\n",
       "      <td>0.256021</td>\n",
       "      <td>0.338598</td>\n",
       "      <td>0.290704</td>\n",
       "      <td>0.889057</td>\n",
       "      <td>0.569672</td>\n",
       "      <td>0.017924</td>\n",
       "      <td>0.073319</td>\n",
       "      <td>0.600386</td>\n",
       "      <td>0.575544</td>\n",
       "    </tr>\n",
       "    <tr>\n",
       "      <th>3</th>\n",
       "      <td>0.060693</td>\n",
       "      <td>NaN</td>\n",
       "      <td>0.347744</td>\n",
       "      <td>0.775873</td>\n",
       "      <td>0.136276</td>\n",
       "      <td>0.061242</td>\n",
       "      <td>0.481902</td>\n",
       "      <td>0.470969</td>\n",
       "      <td>0.151715</td>\n",
       "      <td>0.118411</td>\n",
       "    </tr>\n",
       "    <tr>\n",
       "      <th>4</th>\n",
       "      <td>0.410716</td>\n",
       "      <td>0.556218</td>\n",
       "      <td>0.668342</td>\n",
       "      <td>NaN</td>\n",
       "      <td>0.199630</td>\n",
       "      <td>0.171593</td>\n",
       "      <td>0.490717</td>\n",
       "      <td>0.304541</td>\n",
       "      <td>0.632160</td>\n",
       "      <td>0.083330</td>\n",
       "    </tr>\n",
       "  </tbody>\n",
       "</table>\n",
       "</div>"
      ],
      "text/plain": [
       "          0         1         2         3         4         5         6  \\\n",
       "0       NaN  0.156741  0.383369  0.877753  0.731518  0.382797  0.372147   \n",
       "1  0.056422  0.569635  0.298097  0.047660  0.173860  0.130699  0.585227   \n",
       "2  1.000000  0.256021  0.338598  0.290704  0.889057  0.569672  0.017924   \n",
       "3  0.060693       NaN  0.347744  0.775873  0.136276  0.061242  0.481902   \n",
       "4  0.410716  0.556218  0.668342       NaN  0.199630  0.171593  0.490717   \n",
       "\n",
       "          7         8         9  \n",
       "0  0.059286  0.040431  0.160830  \n",
       "1  0.080360  0.122628  0.334547  \n",
       "2  0.073319  0.600386  0.575544  \n",
       "3  0.470969  0.151715  0.118411  \n",
       "4  0.304541  0.632160  0.083330  "
      ]
     },
     "execution_count": 147,
     "metadata": {},
     "output_type": "execute_result"
    }
   ],
   "source": [
    "A_df = pd.DataFrame(A)\n",
    "A_df.head()"
   ]
  },
  {
   "cell_type": "markdown",
   "metadata": {},
   "source": [
    "#### Defining matrices W and H"
   ]
  },
  {
   "cell_type": "code",
   "execution_count": 148,
   "metadata": {
    "collapsed": true
   },
   "outputs": [],
   "source": [
    "K = 4\n",
    "W = np.abs(np.random.randn(M, K))\n",
    "H = np.abs(np.random.randn(K, N))\n",
    "W = np.divide(W, W.max())\n",
    "H = np.divide(H, H.max())"
   ]
  },
  {
   "cell_type": "code",
   "execution_count": 149,
   "metadata": {
    "collapsed": false
   },
   "outputs": [
    {
     "data": {
      "text/html": [
       "<div>\n",
       "<table border=\"1\" class=\"dataframe\">\n",
       "  <thead>\n",
       "    <tr style=\"text-align: right;\">\n",
       "      <th></th>\n",
       "      <th>0</th>\n",
       "      <th>1</th>\n",
       "      <th>2</th>\n",
       "      <th>3</th>\n",
       "    </tr>\n",
       "  </thead>\n",
       "  <tbody>\n",
       "    <tr>\n",
       "      <th>0</th>\n",
       "      <td>0.133154</td>\n",
       "      <td>0.086338</td>\n",
       "      <td>0.396618</td>\n",
       "      <td>0.236336</td>\n",
       "    </tr>\n",
       "    <tr>\n",
       "      <th>1</th>\n",
       "      <td>0.230878</td>\n",
       "      <td>0.583193</td>\n",
       "      <td>0.008774</td>\n",
       "      <td>0.266188</td>\n",
       "    </tr>\n",
       "    <tr>\n",
       "      <th>2</th>\n",
       "      <td>0.100961</td>\n",
       "      <td>0.035400</td>\n",
       "      <td>0.328277</td>\n",
       "      <td>0.114412</td>\n",
       "    </tr>\n",
       "    <tr>\n",
       "      <th>3</th>\n",
       "      <td>0.283607</td>\n",
       "      <td>0.168225</td>\n",
       "      <td>0.340636</td>\n",
       "      <td>0.147894</td>\n",
       "    </tr>\n",
       "    <tr>\n",
       "      <th>4</th>\n",
       "      <td>0.006139</td>\n",
       "      <td>0.136750</td>\n",
       "      <td>0.814872</td>\n",
       "      <td>0.015241</td>\n",
       "    </tr>\n",
       "  </tbody>\n",
       "</table>\n",
       "</div>"
      ],
      "text/plain": [
       "          0         1         2         3\n",
       "0  0.133154  0.086338  0.396618  0.236336\n",
       "1  0.230878  0.583193  0.008774  0.266188\n",
       "2  0.100961  0.035400  0.328277  0.114412\n",
       "3  0.283607  0.168225  0.340636  0.147894\n",
       "4  0.006139  0.136750  0.814872  0.015241"
      ]
     },
     "execution_count": 149,
     "metadata": {},
     "output_type": "execute_result"
    }
   ],
   "source": [
    "pd.DataFrame(W).head()"
   ]
  },
  {
   "cell_type": "code",
   "execution_count": 150,
   "metadata": {
    "collapsed": false
   },
   "outputs": [
    {
     "data": {
      "text/html": [
       "<div>\n",
       "<table border=\"1\" class=\"dataframe\">\n",
       "  <thead>\n",
       "    <tr style=\"text-align: right;\">\n",
       "      <th></th>\n",
       "      <th>0</th>\n",
       "      <th>1</th>\n",
       "      <th>2</th>\n",
       "      <th>3</th>\n",
       "      <th>4</th>\n",
       "      <th>5</th>\n",
       "      <th>6</th>\n",
       "      <th>7</th>\n",
       "      <th>8</th>\n",
       "      <th>9</th>\n",
       "    </tr>\n",
       "  </thead>\n",
       "  <tbody>\n",
       "    <tr>\n",
       "      <th>0</th>\n",
       "      <td>0.047979</td>\n",
       "      <td>0.442799</td>\n",
       "      <td>0.300380</td>\n",
       "      <td>0.666854</td>\n",
       "      <td>0.124286</td>\n",
       "      <td>0.264265</td>\n",
       "      <td>0.453685</td>\n",
       "      <td>0.525690</td>\n",
       "      <td>0.299411</td>\n",
       "      <td>0.565058</td>\n",
       "    </tr>\n",
       "    <tr>\n",
       "      <th>1</th>\n",
       "      <td>0.272617</td>\n",
       "      <td>0.208787</td>\n",
       "      <td>1.000000</td>\n",
       "      <td>0.460093</td>\n",
       "      <td>0.059008</td>\n",
       "      <td>0.493460</td>\n",
       "      <td>0.042417</td>\n",
       "      <td>0.253027</td>\n",
       "      <td>0.173378</td>\n",
       "      <td>0.160620</td>\n",
       "    </tr>\n",
       "    <tr>\n",
       "      <th>2</th>\n",
       "      <td>0.567089</td>\n",
       "      <td>0.719701</td>\n",
       "      <td>0.051288</td>\n",
       "      <td>0.295227</td>\n",
       "      <td>0.289239</td>\n",
       "      <td>0.199972</td>\n",
       "      <td>0.579126</td>\n",
       "      <td>0.584534</td>\n",
       "      <td>0.301128</td>\n",
       "      <td>0.069262</td>\n",
       "    </tr>\n",
       "    <tr>\n",
       "      <th>3</th>\n",
       "      <td>0.058032</td>\n",
       "      <td>0.467788</td>\n",
       "      <td>0.489091</td>\n",
       "      <td>0.317146</td>\n",
       "      <td>0.167055</td>\n",
       "      <td>0.040953</td>\n",
       "      <td>0.018304</td>\n",
       "      <td>0.124522</td>\n",
       "      <td>0.026749</td>\n",
       "      <td>0.046575</td>\n",
       "    </tr>\n",
       "  </tbody>\n",
       "</table>\n",
       "</div>"
      ],
      "text/plain": [
       "          0         1         2         3         4         5         6  \\\n",
       "0  0.047979  0.442799  0.300380  0.666854  0.124286  0.264265  0.453685   \n",
       "1  0.272617  0.208787  1.000000  0.460093  0.059008  0.493460  0.042417   \n",
       "2  0.567089  0.719701  0.051288  0.295227  0.289239  0.199972  0.579126   \n",
       "3  0.058032  0.467788  0.489091  0.317146  0.167055  0.040953  0.018304   \n",
       "\n",
       "          7         8         9  \n",
       "0  0.525690  0.299411  0.565058  \n",
       "1  0.253027  0.173378  0.160620  \n",
       "2  0.584534  0.301128  0.069262  \n",
       "3  0.124522  0.026749  0.046575  "
      ]
     },
     "execution_count": 150,
     "metadata": {},
     "output_type": "execute_result"
    }
   ],
   "source": [
    "pd.DataFrame(H).head()"
   ]
  },
  {
   "cell_type": "markdown",
   "metadata": {},
   "source": [
    "#### Defining the cost that we want to minimise"
   ]
  },
  {
   "cell_type": "code",
   "execution_count": 151,
   "metadata": {
    "collapsed": true
   },
   "outputs": [],
   "source": [
    "def cost(A, W, H):\n",
    "    from numpy import linalg\n",
    "    WH = np.dot(W, H)\n",
    "    A_WH = A-WH\n",
    "    return linalg.norm(A_WH, 'fro')"
   ]
  },
  {
   "cell_type": "markdown",
   "metadata": {},
   "source": [
    "However, since A has missing entries, we have to define the cost in terms of the entries present in A"
   ]
  },
  {
   "cell_type": "code",
   "execution_count": 152,
   "metadata": {
    "collapsed": true
   },
   "outputs": [],
   "source": [
    "def cost(A, W, H):\n",
    "    from numpy import linalg\n",
    "    mask = pd.DataFrame(A).notnull().values\n",
    "    WH = np.dot(W, H)\n",
    "    WH_mask = WH[mask]\n",
    "    A_mask = A[mask]\n",
    "    A_WH_mask = A_mask-WH_mask\n",
    "    # Since now A_WH_mask is a vector, we use L2 instead of Frobenius norm for matrix\n",
    "    return linalg.norm(A_WH_mask, 2)"
   ]
  },
  {
   "cell_type": "markdown",
   "metadata": {},
   "source": [
    "Let us just try to see the cost of the initial set of values of W and H we randomly assigned."
   ]
  },
  {
   "cell_type": "code",
   "execution_count": 153,
   "metadata": {
    "collapsed": false
   },
   "outputs": [
    {
     "data": {
      "text/plain": [
       "3.9975129126366333"
      ]
     },
     "execution_count": 153,
     "metadata": {},
     "output_type": "execute_result"
    }
   ],
   "source": [
    "cost(A, W, H)"
   ]
  },
  {
   "cell_type": "markdown",
   "metadata": {},
   "source": [
    "#### Alternating NNLS procedure"
   ]
  },
  {
   "cell_type": "code",
   "execution_count": 154,
   "metadata": {
    "collapsed": false
   },
   "outputs": [
    {
     "name": "stdout",
     "output_type": "stream",
     "text": [
      "0 3.15031068407\n",
      "10 1.64560677487\n",
      "20 1.60396103014\n",
      "30 1.59340121343\n",
      "40 1.59173186886\n",
      "50 1.5908131936\n",
      "60 1.59036185477\n",
      "70 1.59010032298\n",
      "80 1.58995095938\n",
      "90 1.58986632451\n"
     ]
    }
   ],
   "source": [
    "num_iter = 100\n",
    "num_display_cost = max(int(num_iter/10), 1)\n",
    "from scipy.optimize import nnls\n",
    "\n",
    "for i in range(num_iter):\n",
    "    if i%2 ==0:\n",
    "        # Learn H, given A and W\n",
    "        for j in range(N):\n",
    "            mask_rows = pd.Series(A[:,j]).notnull()\n",
    "            H[:,j] = nnls(W[mask_rows], A[:,j][mask_rows])[0]\n",
    "    else:\n",
    "        for j in range(M):\n",
    "            mask_rows = pd.Series(A[j,:]).notnull()\n",
    "            W[j,:] = nnls(H.transpose()[mask_rows], A[j,:][mask_rows])[0]\n",
    "    WH = np.dot(W, H)\n",
    "    c = cost(A, W, H)\n",
    "    if i%num_display_cost==0:\n",
    "        print i, c\n",
    "        "
   ]
  },
  {
   "cell_type": "code",
   "execution_count": 155,
   "metadata": {
    "collapsed": false
   },
   "outputs": [
    {
     "data": {
      "text/html": [
       "<div>\n",
       "<table border=\"1\" class=\"dataframe\">\n",
       "  <thead>\n",
       "    <tr style=\"text-align: right;\">\n",
       "      <th></th>\n",
       "      <th>0</th>\n",
       "      <th>1</th>\n",
       "      <th>2</th>\n",
       "      <th>3</th>\n",
       "      <th>4</th>\n",
       "      <th>5</th>\n",
       "      <th>6</th>\n",
       "      <th>7</th>\n",
       "      <th>8</th>\n",
       "      <th>9</th>\n",
       "    </tr>\n",
       "  </thead>\n",
       "  <tbody>\n",
       "    <tr>\n",
       "      <th>0</th>\n",
       "      <td>0.768571</td>\n",
       "      <td>0.051237</td>\n",
       "      <td>0.360478</td>\n",
       "      <td>0.896788</td>\n",
       "      <td>0.557515</td>\n",
       "      <td>0.360601</td>\n",
       "      <td>0.299828</td>\n",
       "      <td>0.068551</td>\n",
       "      <td>0.353684</td>\n",
       "      <td>0.215772</td>\n",
       "    </tr>\n",
       "    <tr>\n",
       "      <th>1</th>\n",
       "      <td>0.021930</td>\n",
       "      <td>0.516962</td>\n",
       "      <td>0.215584</td>\n",
       "      <td>0.160556</td>\n",
       "      <td>0.038575</td>\n",
       "      <td>0.317287</td>\n",
       "      <td>0.318735</td>\n",
       "      <td>0.157080</td>\n",
       "      <td>0.273725</td>\n",
       "      <td>0.349418</td>\n",
       "    </tr>\n",
       "    <tr>\n",
       "      <th>2</th>\n",
       "      <td>0.975095</td>\n",
       "      <td>0.201567</td>\n",
       "      <td>0.258860</td>\n",
       "      <td>0.270963</td>\n",
       "      <td>0.911301</td>\n",
       "      <td>0.652966</td>\n",
       "      <td>0.156339</td>\n",
       "      <td>0.112052</td>\n",
       "      <td>0.584028</td>\n",
       "      <td>0.517943</td>\n",
       "    </tr>\n",
       "    <tr>\n",
       "      <th>3</th>\n",
       "      <td>0.164375</td>\n",
       "      <td>0.402924</td>\n",
       "      <td>0.336635</td>\n",
       "      <td>0.766582</td>\n",
       "      <td>0.110595</td>\n",
       "      <td>0.104664</td>\n",
       "      <td>0.420903</td>\n",
       "      <td>0.450351</td>\n",
       "      <td>0.266460</td>\n",
       "      <td>0.061456</td>\n",
       "    </tr>\n",
       "    <tr>\n",
       "      <th>4</th>\n",
       "      <td>0.418817</td>\n",
       "      <td>0.480774</td>\n",
       "      <td>0.546891</td>\n",
       "      <td>1.292182</td>\n",
       "      <td>0.232168</td>\n",
       "      <td>0.269157</td>\n",
       "      <td>0.638597</td>\n",
       "      <td>0.419463</td>\n",
       "      <td>0.393236</td>\n",
       "      <td>0.177796</td>\n",
       "    </tr>\n",
       "  </tbody>\n",
       "</table>\n",
       "</div>"
      ],
      "text/plain": [
       "          0         1         2         3         4         5         6  \\\n",
       "0  0.768571  0.051237  0.360478  0.896788  0.557515  0.360601  0.299828   \n",
       "1  0.021930  0.516962  0.215584  0.160556  0.038575  0.317287  0.318735   \n",
       "2  0.975095  0.201567  0.258860  0.270963  0.911301  0.652966  0.156339   \n",
       "3  0.164375  0.402924  0.336635  0.766582  0.110595  0.104664  0.420903   \n",
       "4  0.418817  0.480774  0.546891  1.292182  0.232168  0.269157  0.638597   \n",
       "\n",
       "          7         8         9  \n",
       "0  0.068551  0.353684  0.215772  \n",
       "1  0.157080  0.273725  0.349418  \n",
       "2  0.112052  0.584028  0.517943  \n",
       "3  0.450351  0.266460  0.061456  \n",
       "4  0.419463  0.393236  0.177796  "
      ]
     },
     "execution_count": 155,
     "metadata": {},
     "output_type": "execute_result"
    }
   ],
   "source": [
    "A_pred = pd.DataFrame(np.dot(W, H))\n",
    "A_pred.head()"
   ]
  },
  {
   "cell_type": "markdown",
   "metadata": {},
   "source": [
    "Let's view the values of the masked entries. "
   ]
  },
  {
   "cell_type": "code",
   "execution_count": 156,
   "metadata": {
    "collapsed": false
   },
   "outputs": [
    {
     "data": {
      "text/plain": [
       "array([ 0.76857135,  0.40292371,  1.29218241])"
      ]
     },
     "execution_count": 156,
     "metadata": {},
     "output_type": "execute_result"
    }
   ],
   "source": [
    "A_pred.values[~pd.DataFrame(A).notnull().values]"
   ]
  },
  {
   "cell_type": "markdown",
   "metadata": {},
   "source": [
    "Original values were:"
   ]
  },
  {
   "cell_type": "code",
   "execution_count": 157,
   "metadata": {
    "collapsed": false
   },
   "outputs": [
    {
     "data": {
      "text/plain": [
       "array([ 0.69097508,  0.14812535,  0.76411405])"
      ]
     },
     "execution_count": 157,
     "metadata": {},
     "output_type": "execute_result"
    }
   ],
   "source": [
    "A_orig[~pd.DataFrame(A).notnull().values]"
   ]
  }
 ],
 "metadata": {
  "kernelspec": {
   "display_name": "Python 2",
   "language": "python",
   "name": "python2"
  },
  "language_info": {
   "codemirror_mode": {
    "name": "ipython",
    "version": 2
   },
   "file_extension": ".py",
   "mimetype": "text/x-python",
   "name": "python",
   "nbconvert_exporter": "python",
   "pygments_lexer": "ipython2",
   "version": "2.7.11"
  }
 },
 "nbformat": 4,
 "nbformat_minor": 0
}
